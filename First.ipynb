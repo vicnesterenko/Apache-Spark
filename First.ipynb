{
  "cells": [
    {
      "cell_type": "code",
      "execution_count": 3,
      "metadata": {
        "colab": {
          "base_uri": "https://localhost:8080/"
        },
        "id": "kJeARKe9tUm8",
        "outputId": "7b818cb8-96c4-46b6-abf3-18c9d5877553"
      },
      "outputs": [
        {
          "name": "stdout",
          "output_type": "stream",
          "text": [
            "Looking in indexes: https://pypi.org/simple, https://us-python.pkg.dev/colab-wheels/public/simple/\n",
            "Requirement already satisfied: pyspark in /usr/local/lib/python3.7/dist-packages (3.3.1)\n",
            "Requirement already satisfied: py4j==0.10.9.5 in /usr/local/lib/python3.7/dist-packages (from pyspark) (0.10.9.5)\n",
            "Drive already mounted at /content/drive; to attempt to forcibly remount, call drive.mount(\"/content/drive\", force_remount=True).\n",
            "root\n",
            " |-- CrimeRate: float (nullable = true)\n",
            " |-- Youth: integer (nullable = true)\n",
            " |-- Southern: integer (nullable = true)\n",
            " |-- Education: float (nullable = true)\n",
            " |-- ExpenditureYear0: float (nullable = true)\n",
            " |-- LabourForce: integer (nullable = true)\n",
            " |-- Males: integer (nullable = true)\n",
            " |-- MoreMales: integer (nullable = true)\n",
            " |-- StateSize: integer (nullable = true)\n",
            " |-- YouthUnemployment: integer (nullable = true)\n",
            " |-- MatureUnemployment: integer (nullable = true)\n",
            " |-- HighYouthUnemploy: integer (nullable = true)\n",
            " |-- Wage: integer (nullable = true)\n",
            " |-- BelowWage: integer (nullable = true)\n",
            "\n",
            "+---------+-----+--------+---------+----------------+-----------+-----+---------+---------+-----------------+------------------+-----------------+----+---------+\n",
            "|CrimeRate|Youth|Southern|Education|ExpenditureYear0|LabourForce|Males|MoreMales|StateSize|YouthUnemployment|MatureUnemployment|HighYouthUnemploy|Wage|BelowWage|\n",
            "+---------+-----+--------+---------+----------------+-----------+-----+---------+---------+-----------------+------------------+-----------------+----+---------+\n",
            "|     45.5|  135|       0|     12.4|            69.0|        540|  965|        0|        6|               80|                22|                1| 564|      139|\n",
            "|     52.3|  140|       0|     10.9|            55.0|        535| 1045|        1|        6|              135|                40|                1| 453|      200|\n",
            "|     56.6|  157|       1|     11.2|            47.0|        512|  962|        0|       22|               97|                34|                0| 288|      276|\n",
            "|     60.3|  139|       1|     11.9|            46.0|        480|  968|        0|       19|              135|                53|                0| 457|      249|\n",
            "|     64.2|  126|       0|     12.2|           106.0|        599|  989|        0|       40|               78|                25|                1| 593|      171|\n",
            "|     67.6|  128|       0|     13.5|            67.0|        624|  972|        0|       28|               77|                25|                1| 507|      206|\n",
            "|     70.5|  130|       0|     14.1|            63.0|        641|  984|        0|       14|               70|                21|                1| 486|      196|\n",
            "|     73.2|  143|       0|     12.9|            66.0|        537|  977|        0|       10|              114|                35|                1| 487|      166|\n",
            "|     75.0|  141|       0|     12.9|            56.0|        523|  968|        0|        4|              107|                37|                0| 489|      170|\n",
            "|     78.1|  133|       0|     11.4|            51.0|        599| 1024|        1|        7|               99|                27|                1| 425|      225|\n",
            "|     79.8|  142|       1|     12.9|            45.0|        533|  969|        0|       18|               94|                33|                0| 318|      250|\n",
            "|     82.3|  123|       0|     12.5|            97.0|        526|  948|        0|      113|              124|                50|                0| 572|      158|\n",
            "|     83.1|  135|       0|     13.6|            62.0|        595|  986|        0|       22|               77|                27|                0| 529|      190|\n",
            "|     84.9|  121|       0|     13.2|           118.0|        547|  964|        0|       25|               84|                29|                0| 689|      126|\n",
            "|     85.6|  166|       1|     11.4|            58.0|        521|  973|        0|       46|               72|                26|                0| 396|      237|\n",
            "|     88.0|  140|       0|     12.9|            71.0|        632| 1029|        1|        7|              100|                24|                1| 526|      174|\n",
            "|     92.3|  126|       0|     12.7|            74.0|        602|  984|        0|       34|              102|                33|                1| 557|      195|\n",
            "|     94.3|  130|       0|     13.3|           128.0|        536|  934|        0|       51|               78|                34|                0| 627|      135|\n",
            "|     95.3|  125|       0|     12.0|            90.0|        586|  964|        0|       97|              105|                43|                0| 617|      163|\n",
            "|     96.8|  151|       1|     10.0|            58.0|        510|  950|        0|       33|              108|                41|                0| 394|      261|\n",
            "+---------+-----+--------+---------+----------------+-----------+-----+---------+---------+-----------------+------------------+-----------------+----+---------+\n",
            "only showing top 20 rows\n",
            "\n"
          ]
        }
      ],
      "source": [
        "!pip install pyspark\n",
        "\n",
        "from google.colab import drive\n",
        "drive.mount('/content/drive')\n",
        "\n",
        "import pyspark.sql.functions as f\n",
        "from pyspark.sql import SparkSession\n",
        "from pyspark.sql.types import StructType, IntegerType, StringType, FloatType, StructField,BooleanType\n",
        "\n",
        "schema = StructType([\n",
        "    StructField(\"CrimeRate\", FloatType(), True), \n",
        "    StructField(\"Youth\", IntegerType(), True), \n",
        "    StructField(\"Southern\", IntegerType(), True), \n",
        "    StructField(\"Education\", FloatType(), True), \n",
        "    StructField(\"ExpenditureYear0\", FloatType(), True), \n",
        "    StructField(\"LabourForce\", IntegerType(), True), \n",
        "    StructField(\"Males\", IntegerType(), True), \n",
        "    StructField(\"MoreMales\", IntegerType(), True), \n",
        "    StructField(\"StateSize\", IntegerType(), True), \n",
        "    StructField(\"YouthUnemployment\", IntegerType(), True), \n",
        "    StructField(\"MatureUnemployment\", IntegerType(), True),\n",
        "    StructField(\"HighYouthUnemploy\", IntegerType(), True),\n",
        "    StructField(\"Wage\", IntegerType(), True),\n",
        "    StructField(\"BelowWage\", IntegerType(), True)\n",
        "    ])\n",
        "\n",
        "spark = SparkSession.builder.appName(\"Сrime\").getOrCreate()\n",
        "df = spark.read.format(\"csv\").option(\"header\", True).schema(schema).load(\"Crime.csv\")\n",
        "df.printSchema()\n",
        "df.show()"
      ]
    },
    {
      "cell_type": "code",
      "execution_count": 10,
      "metadata": {
        "colab": {
          "base_uri": "https://localhost:8080/"
        },
        "id": "2LXfIgOvwA_o",
        "outputId": "41a67452-38ce-4afe-efb6-aef8c67e3a9b"
      },
      "outputs": [
        {
          "name": "stdout",
          "output_type": "stream",
          "text": [
            "+------------------+\n",
            "|               avg|\n",
            "+------------------+\n",
            "|100.68124985694885|\n",
            "+------------------+\n",
            "\n"
          ]
        }
      ],
      "source": [
        "# Знайти середню частоту злочинів в південних штатах\n",
        "\n",
        "df.select(df.CrimeRate,df.Southern).where(df.Southern > 0).agg(f.avg('CrimeRate').alias('avg')).show()"
      ]
    },
    {
      "cell_type": "code",
      "execution_count": 11,
      "metadata": {
        "colab": {
          "base_uri": "https://localhost:8080/"
        },
        "id": "s43vzgL7wBVG",
        "outputId": "347bd1fe-4cad-4e81-8b3e-2d1bff72eaff"
      },
      "outputs": [
        {
          "data": {
            "text/plain": [
              "[Row(sum(ExpenditureYear0)=3995.0)]"
            ]
          },
          "execution_count": 11,
          "metadata": {},
          "output_type": "execute_result"
        }
      ],
      "source": [
        "# Порахувати загальні витрати на поліцію\n",
        "\n",
        "df.groupBy().sum('ExpenditureYear0').collect()\n"
      ]
    },
    {
      "cell_type": "code",
      "execution_count": 13,
      "metadata": {
        "colab": {
          "base_uri": "https://localhost:8080/"
        },
        "id": "j9wSwfWR12_D",
        "outputId": "56381a74-23c7-4966-8e84-2206a3e3d545"
      },
      "outputs": [
        {
          "name": "stdout",
          "output_type": "stream",
          "text": [
            "+---------+--------+---------+\n",
            "|CrimeRate|Southern|BelowWage|\n",
            "+---------+--------+---------+\n",
            "|     56.6|       1|      276|\n",
            "|     60.3|       1|      249|\n",
            "|     79.8|       1|      250|\n",
            "|     85.6|       1|      237|\n",
            "|     96.8|       1|      261|\n",
            "|     97.4|       1|      264|\n",
            "|     98.7|       1|      224|\n",
            "|     99.9|       1|      251|\n",
            "|    103.0|       1|      254|\n",
            "|    106.6|       1|      239|\n",
            "|    112.1|       1|      247|\n",
            "|    121.6|       1|      233|\n",
            "|    123.4|       1|      228|\n",
            "|    145.4|       1|      206|\n",
            "+---------+--------+---------+\n",
            "\n"
          ]
        }
      ],
      "source": [
        "# Вивести частоту злочинів для північних штатів, в яких кількість бідних сімей більше 200 на 1000 нас\n",
        "\n",
        "df.select(df.CrimeRate,df.Southern,df.BelowWage).where(df.Southern > 0).where(df.BelowWage > 200).show()"
      ]
    },
    {
      "cell_type": "code",
      "execution_count": 16,
      "metadata": {
        "colab": {
          "base_uri": "https://localhost:8080/"
        },
        "id": "4toc_QowwBhr",
        "outputId": "7ec279e2-af6e-463f-fae8-217859d9fd09"
      },
      "outputs": [
        {
          "name": "stdout",
          "output_type": "stream",
          "text": [
            "+---------+-----+--------+---------+----------------+-----------+-----+---------+---------+-----------------+------------------+-----------------+----+---------+\n",
            "|CrimeRate|Youth|Southern|Education|ExpenditureYear0|LabourForce|Males|MoreMales|StateSize|YouthUnemployment|MatureUnemployment|HighYouthUnemploy|Wage|BelowWage|\n",
            "+---------+-----+--------+---------+----------------+-----------+-----+---------+---------+-----------------+------------------+-----------------+----+---------+\n",
            "|     70.5|  130|       0|     14.1|            63.0|        641|  984|        0|       14|               70|                21|                1| 486|      196|\n",
            "|     85.6|  166|       1|     11.4|            58.0|        521|  973|        0|       46|               72|                26|                0| 396|      237|\n",
            "|     98.7|  162|       1|     12.1|            75.0|        522|  996|        0|       40|               73|                27|                0| 496|      224|\n",
            "|    103.0|  177|       1|     11.0|            58.0|        638|  974|        0|       24|               76|                28|                0| 382|      254|\n",
            "|    121.6|  147|       1|     13.9|            63.0|        560|  972|        0|       23|               76|                24|                1| 462|      233|\n",
            "|     67.6|  128|       0|     13.5|            67.0|        624|  972|        0|       28|               77|                25|                1| 507|      206|\n",
            "|     83.1|  135|       0|     13.6|            62.0|        595|  986|        0|       22|               77|                27|                0| 529|      190|\n",
            "|    154.3|  124|       0|     12.3|           121.0|        580|  966|        0|      101|               77|                35|                0| 657|      170|\n",
            "|     64.2|  126|       0|     12.2|           106.0|        599|  989|        0|       40|               78|                25|                1| 593|      171|\n",
            "|     94.3|  130|       0|     13.3|           128.0|        536|  934|        0|       51|               78|                34|                0| 627|      135|\n",
            "|    145.4|  131|       1|     12.2|           115.0|        542|  969|        0|       50|               79|                35|                0| 472|      206|\n",
            "|     45.5|  135|       0|     12.4|            69.0|        540|  965|        0|        6|               80|                22|                1| 564|      139|\n",
            "|    106.6|  157|       1|     11.1|            65.0|        553|  955|        0|       39|               81|                28|                0| 421|      239|\n",
            "|    127.2|  132|       0|     10.4|            87.0|        564|  953|        0|       43|               83|                32|                0| 513|      227|\n",
            "|    104.3|  134|       0|     12.5|            75.0|        595|  972|        0|       47|               83|                31|                0| 580|      172|\n",
            "|     84.9|  121|       0|     13.2|           118.0|        547|  964|        0|       25|               84|                29|                0| 689|      126|\n",
            "|    107.2|  148|       0|     13.7|            72.0|        601|  998|        0|        9|               84|                20|                1| 590|      144|\n",
            "|     99.9|  149|       1|     10.7|            61.0|        515|  953|        0|       36|               86|                35|                0| 395|      251|\n",
            "|    140.8|  150|       0|     12.0|           109.0|        531|  964|        0|        9|               87|                38|                0| 559|      153|\n",
            "|    123.4|  145|       1|     11.7|            82.0|        560|  981|        0|       96|               88|                31|                0| 488|      228|\n",
            "+---------+-----+--------+---------+----------------+-----------+-----+---------+---------+-----------------+------------------+-----------------+----+---------+\n",
            "only showing top 20 rows\n",
            "\n"
          ]
        }
      ],
      "source": [
        "# Відсортувати дані за кількістю безробітних чоловіків віком 18-24 роки на 1000 нас (зростаючий)\n",
        "\n",
        "df.sort(df.YouthUnemployment.asc()).show()"
      ]
    },
    {
      "cell_type": "code",
      "execution_count": 15,
      "metadata": {
        "colab": {
          "base_uri": "https://localhost:8080/"
        },
        "id": "tpDFb8xa3LTi",
        "outputId": "9ed4aae4-d962-4e7d-ca39-363a6c4b3ca5"
      },
      "outputs": [
        {
          "name": "stdout",
          "output_type": "stream",
          "text": [
            "+---------+-----+--------+---------+----------------+-----------+-----+---------+---------+-----------------+------------------+-----------------+----+---------+\n",
            "|CrimeRate|Youth|Southern|Education|ExpenditureYear0|LabourForce|Males|MoreMales|StateSize|YouthUnemployment|MatureUnemployment|HighYouthUnemploy|Wage|BelowWage|\n",
            "+---------+-----+--------+---------+----------------+-----------+-----+---------+---------+-----------------+------------------+-----------------+----+---------+\n",
            "|     84.9|  121|       0|     13.2|           118.0|        547|  964|        0|       25|               84|                29|                0| 689|      126|\n",
            "|    161.8|  131|       0|     13.2|           160.0|        631| 1071|        1|        3|              102|                41|                0| 674|      152|\n",
            "|    157.7|  136|       0|     15.1|           149.0|        577|  994|        0|      157|              102|                39|                0| 673|      167|\n",
            "|    154.3|  124|       0|     12.3|           121.0|        580|  966|        0|      101|               77|                35|                0| 657|      170|\n",
            "|    119.7|  119|       0|     11.9|           166.0|        521|  938|        0|      168|               92|                36|                0| 637|      154|\n",
            "|    109.4|  135|       1|     11.4|           123.0|        537|  978|        0|       31|               89|                34|                0| 631|      165|\n",
            "|     94.3|  130|       0|     13.3|           128.0|        536|  934|        0|       51|               78|                34|                0| 627|      135|\n",
            "|    135.5|  125|       0|     12.5|           113.0|        567|  985|        0|       78|              130|                58|                0| 626|      166|\n",
            "|    117.2|  136|       0|     12.9|            95.0|        574| 1012|        1|       29|              111|                37|                1| 622|      162|\n",
            "|    114.3|  127|       1|     12.8|            82.0|        519|  982|        0|        4|               97|                38|                0| 620|      168|\n",
            "|     95.3|  125|       0|     12.0|            90.0|        586|  964|        0|       97|              105|                43|                0| 617|      163|\n",
            "|     64.2|  126|       0|     12.2|           106.0|        599|  989|        0|       40|               78|                25|                1| 593|      171|\n",
            "|    107.2|  148|       0|     13.7|            72.0|        601|  998|        0|        9|               84|                20|                1| 590|      144|\n",
            "|    108.3|  126|       0|     13.8|            97.0|        542|  990|        0|       18|              102|                35|                0| 589|      166|\n",
            "|    105.9|  130|       0|     13.4|            90.0|        623| 1049|        1|        3|              113|                40|                0| 588|      160|\n",
            "|    104.3|  134|       0|     12.5|            75.0|        595|  972|        0|       47|               83|                31|                0| 580|      172|\n",
            "|    137.8|  141|       0|     14.2|           109.0|        591|  985|        0|       18|               91|                20|                1| 578|      174|\n",
            "|     82.3|  123|       0|     12.5|            97.0|        526|  948|        0|      113|              124|                50|                0| 572|      158|\n",
            "|     45.5|  135|       0|     12.4|            69.0|        540|  965|        0|        6|               80|                22|                1| 564|      139|\n",
            "|    140.8|  150|       0|     12.0|           109.0|        531|  964|        0|        9|               87|                38|                0| 559|      153|\n",
            "+---------+-----+--------+---------+----------------+-----------+-----+---------+---------+-----------------+------------------+-----------------+----+---------+\n",
            "only showing top 20 rows\n",
            "\n"
          ]
        }
      ],
      "source": [
        "#Відсортувати дані за середніми доходами (спадний)\n",
        "\n",
        "df.sort(df.Wage.desc()).show()\n"
      ]
    }
  ],
  "metadata": {
    "colab": {
      "provenance": []
    },
    "kernelspec": {
      "display_name": "Python 3",
      "name": "python3"
    },
    "language_info": {
      "name": "python"
    }
  },
  "nbformat": 4,
  "nbformat_minor": 0
}
